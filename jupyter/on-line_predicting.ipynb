{
 "cells": [
  {
   "cell_type": "markdown",
   "metadata": {},
   "source": [
    "# On-line predicting"
   ]
  },
  {
   "cell_type": "markdown",
   "metadata": {},
   "source": [
    "This script shows how to do an on-line predict using our modules."
   ]
  },
  {
   "cell_type": "markdown",
   "metadata": {},
   "source": [
    "## Run routes.py"
   ]
  },
  {
   "cell_type": "markdown",
   "metadata": {},
   "source": [
    "The routes.py file creates a flask local server in a choosed port to alow a browser (or antoher app) request. The routes.py file is located in the /src path.\n",
    "\n",
    "To run the file, you will need a python (or python3) compile and run the following commands in you terminal.\n",
    "\n",
    "~~~\n",
    "$ cd src\n",
    "$ python routes.py\n",
    "~~~\n",
    "\n",
    "Or you can run the cell below:"
   ]
  },
  {
   "cell_type": "code",
   "execution_count": 4,
   "metadata": {},
   "outputs": [
    {
     "name": "stdout",
     "output_type": "stream",
     "text": [
      " * Serving Flask app 'routes' (lazy loading)\n",
      " * Environment: production\n",
      "\u001b[31m   WARNING: This is a development server. Do not use it in a production deployment.\u001b[0m\n",
      "\u001b[2m   Use a production WSGI server instead.\u001b[0m\n",
      " * Debug mode: on\n",
      " * Running on http://0.0.0.0:5000/ (Press CTRL+C to quit)\n",
      " * Restarting with inotify reloader\n",
      " * Debugger is active!\n",
      " * Debugger PIN: 200-124-752\n",
      "done model exp\n",
      "3 best models are: \n",
      "\n",
      "127.0.0.1 - - [16/Jun/2022 07:43:40] \"\u001b[35m\u001b[1mPOST /api/v1/exp-smoothing/train/repo/p971074907/path/brl:rn/feature/date:newDeaths/begin/2020-05-01/end/2022-05-03/ HTTP/1.1\u001b[0m\" 500 -\n",
      "Traceback (most recent call last):\n",
      "  File \"/home/davi/miniconda3/envs/my_env/lib/python3.7/site-packages/flask/app.py\", line 2095, in __call__\n",
      "    return self.wsgi_app(environ, start_response)\n",
      "  File \"/home/davi/miniconda3/envs/my_env/lib/python3.7/site-packages/flask/app.py\", line 2080, in wsgi_app\n",
      "    response = self.handle_exception(e)\n",
      "  File \"/home/davi/miniconda3/envs/my_env/lib/python3.7/site-packages/flask/app.py\", line 2077, in wsgi_app\n",
      "    response = self.full_dispatch_request()\n",
      "  File \"/home/davi/miniconda3/envs/my_env/lib/python3.7/site-packages/flask/app.py\", line 1526, in full_dispatch_request\n",
      "    return self.finalize_request(rv)\n",
      "  File \"/home/davi/miniconda3/envs/my_env/lib/python3.7/site-packages/flask/app.py\", line 1545, in finalize_request\n",
      "    response = self.make_response(rv)\n",
      "  File \"/home/davi/miniconda3/envs/my_env/lib/python3.7/site-packages/flask/app.py\", line 1702, in make_response\n",
      "    f\"The view function for {request.endpoint!r} did not\"\n",
      "TypeError: The view function for 'train_exp_smoothing' did not return a valid response. The function either returned None or ended without a return statement.\n",
      "^C\n"
     ]
    }
   ],
   "source": [
    "! python \"../src/routes.py\""
   ]
  },
  {
   "cell_type": "markdown",
   "metadata": {},
   "source": [
    "This cell above still run for the time you want, to stop the routes.py execution just stop the cell run. \n",
    "\n",
    "While it is run, you are able to do requests in the following format.\n",
    "\n",
    "http://127.0.0.1:5000/lstm/repo/p971074907/path/brl:rn/feature/date:deaths:newCases:/begin/2021-07-01/end/2021-07-30/\n",
    "\n",
    "Where a variable is followed by the desired value, then:\n",
    "\n",
    "~~~python\n",
    "# the remote repository data.\n",
    "repo = \"p971074907\"\n",
    "# coutry and state acronym splited by a \":\"\n",
    "path = \"brl:rn\"\n",
    "# columns (or features) to be extracted from the database, each one splited by a \":\"\n",
    "feature = \"date:newDeaths:newCases:\"\n",
    "# start date for the data request.\n",
    "begin = \"2021-07-01\"\n",
    "# finish date for the data request.\n",
    "end = \"2021-07-30\"\n",
    "~~~"
   ]
  }
 ],
 "metadata": {
  "kernelspec": {
   "display_name": "Python 3.7.11 ('my_env')",
   "language": "python",
   "name": "python3"
  },
  "language_info": {
   "codemirror_mode": {
    "name": "ipython",
    "version": 3
   },
   "file_extension": ".py",
   "mimetype": "text/x-python",
   "name": "python",
   "nbconvert_exporter": "python",
   "pygments_lexer": "ipython3",
   "version": "3.7.11"
  },
  "orig_nbformat": 4,
  "vscode": {
   "interpreter": {
    "hash": "8a053a40525e1c6278ec581930320405168930e7b68814e2fdb3e0e683817598"
   }
  }
 },
 "nbformat": 4,
 "nbformat_minor": 2
}
